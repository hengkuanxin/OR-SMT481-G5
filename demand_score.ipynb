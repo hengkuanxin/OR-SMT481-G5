{
 "cells": [
  {
   "cell_type": "code",
   "execution_count": 1,
   "metadata": {
    "colab": {
     "base_uri": "https://localhost:8080/"
    },
    "id": "N3tscw0S49Jy",
    "outputId": "ff2f0bf0-77f2-4261-d4c8-6c36e0fb5fb3"
   },
   "outputs": [],
   "source": [
    "import pandas as pd\n",
    "import numpy as np\n",
    "import matplotlib.pyplot as plt"
   ]
  },
  {
   "cell_type": "code",
   "execution_count": 2,
   "metadata": {
    "colab": {
     "base_uri": "https://localhost:8080/"
    },
    "id": "W4uNiLw4_y9h",
    "outputId": "d4b85440-9cd2-46b1-9469-d78ca4b75ed6"
   },
   "outputs": [],
   "source": [
    "data_directory = 'data/'\n",
    "bike_trips = pd.read_csv(f'{data_directory}/combined_bike_trips_2023.csv')\n",
    "stations = pd.read_csv(f'{data_directory}/manhattan_stations.csv')"
   ]
  },
  {
   "cell_type": "code",
   "execution_count": 16,
   "metadata": {
    "id": "z75vso93DrtG"
   },
   "outputs": [],
   "source": [
    "bike_df = bike_trips.copy()"
   ]
  },
  {
   "cell_type": "code",
   "execution_count": 17,
   "metadata": {
    "id": "6ek19MgxAQL8"
   },
   "outputs": [],
   "source": [
    "# Convert string to datetime objects\n",
    "bike_df['started_at'] = pd.to_datetime(bike_df['started_at'])\n",
    "bike_df['ended_at'] = pd.to_datetime(bike_df['ended_at'])\n",
    "\n",
    "# Get trip_duration\n",
    "bike_df['trip_duration'] = (bike_df['ended_at'] - bike_df['started_at']).dt.total_seconds()/60\n",
    "bike_df = bike_df[bike_df['trip_duration'] > 0].copy() # ensure start_date is before end_date\n",
    "\n",
    "# Get week for each observation\n",
    "bike_df['week_started'] = bike_df['started_at'].dt.isocalendar().week\n",
    "bike_df['week_ended'] = bike_df['ended_at'].dt.isocalendar().week\n",
    "\n",
    "# Get month for each observation\n",
    "bike_df['month_started'] = bike_df['started_at'].dt.month\n",
    "bike_df['month_ended'] = bike_df['ended_at'].dt.month"
   ]
  },
  {
   "cell_type": "code",
   "execution_count": 18,
   "metadata": {
    "colab": {
     "base_uri": "https://localhost:8080/",
     "height": 424
    },
    "id": "JQYnVI_qFNOm",
    "outputId": "12deba8e-f19e-4edd-f68b-1f548978d583"
   },
   "outputs": [
    {
     "data": {
      "text/html": [
       "<div>\n",
       "<style scoped>\n",
       "    .dataframe tbody tr th:only-of-type {\n",
       "        vertical-align: middle;\n",
       "    }\n",
       "\n",
       "    .dataframe tbody tr th {\n",
       "        vertical-align: top;\n",
       "    }\n",
       "\n",
       "    .dataframe thead th {\n",
       "        text-align: right;\n",
       "    }\n",
       "</style>\n",
       "<table border=\"1\" class=\"dataframe\">\n",
       "  <thead>\n",
       "    <tr style=\"text-align: right;\">\n",
       "      <th></th>\n",
       "      <th>ride_id</th>\n",
       "      <th>rideable_type</th>\n",
       "      <th>started_at</th>\n",
       "      <th>ended_at</th>\n",
       "      <th>start_station_name</th>\n",
       "      <th>start_station_id</th>\n",
       "      <th>end_station_name</th>\n",
       "      <th>end_station_id</th>\n",
       "      <th>start_lat</th>\n",
       "      <th>start_lng</th>\n",
       "      <th>end_lat</th>\n",
       "      <th>end_lng</th>\n",
       "      <th>member_casual</th>\n",
       "      <th>trip_duration</th>\n",
       "      <th>week_started</th>\n",
       "      <th>week_ended</th>\n",
       "      <th>month_started</th>\n",
       "      <th>month_ended</th>\n",
       "    </tr>\n",
       "  </thead>\n",
       "  <tbody>\n",
       "    <tr>\n",
       "      <th>0</th>\n",
       "      <td>DC1CB984821DFFF7</td>\n",
       "      <td>classic_bike</td>\n",
       "      <td>2023-01-07 15:36:53.430</td>\n",
       "      <td>2023-01-07 15:39:45.406</td>\n",
       "      <td>Vesey St &amp; Church St</td>\n",
       "      <td>5216.06</td>\n",
       "      <td>Albany St &amp; Greenwich St</td>\n",
       "      <td>5145.02</td>\n",
       "      <td>40.712220</td>\n",
       "      <td>-74.010472</td>\n",
       "      <td>40.709267</td>\n",
       "      <td>-74.013247</td>\n",
       "      <td>member</td>\n",
       "      <td>2.866267</td>\n",
       "      <td>1</td>\n",
       "      <td>1</td>\n",
       "      <td>1</td>\n",
       "      <td>1</td>\n",
       "    </tr>\n",
       "    <tr>\n",
       "      <th>1</th>\n",
       "      <td>C00CA02971557F16</td>\n",
       "      <td>classic_bike</td>\n",
       "      <td>2023-01-04 19:23:01.234</td>\n",
       "      <td>2023-01-04 19:34:57.151</td>\n",
       "      <td>Lispenard St &amp; Broadway</td>\n",
       "      <td>5391.06</td>\n",
       "      <td>St Marks Pl &amp; 1 Ave</td>\n",
       "      <td>5626.13</td>\n",
       "      <td>40.719392</td>\n",
       "      <td>-74.002472</td>\n",
       "      <td>40.727791</td>\n",
       "      <td>-73.985649</td>\n",
       "      <td>member</td>\n",
       "      <td>11.931950</td>\n",
       "      <td>1</td>\n",
       "      <td>1</td>\n",
       "      <td>1</td>\n",
       "      <td>1</td>\n",
       "    </tr>\n",
       "    <tr>\n",
       "      <th>2</th>\n",
       "      <td>E4415A543C1972A7</td>\n",
       "      <td>classic_bike</td>\n",
       "      <td>2023-01-24 10:38:01.135</td>\n",
       "      <td>2023-01-24 10:41:40.749</td>\n",
       "      <td>E 5 St &amp; Ave A</td>\n",
       "      <td>5626.06</td>\n",
       "      <td>E 1 St &amp; 1 Ave</td>\n",
       "      <td>5593.01</td>\n",
       "      <td>40.724790</td>\n",
       "      <td>-73.984301</td>\n",
       "      <td>40.723356</td>\n",
       "      <td>-73.988650</td>\n",
       "      <td>member</td>\n",
       "      <td>3.660233</td>\n",
       "      <td>4</td>\n",
       "      <td>4</td>\n",
       "      <td>1</td>\n",
       "      <td>1</td>\n",
       "    </tr>\n",
       "    <tr>\n",
       "      <th>3</th>\n",
       "      <td>4FC76B63F9FE631F</td>\n",
       "      <td>classic_bike</td>\n",
       "      <td>2023-01-26 19:17:23.200</td>\n",
       "      <td>2023-01-26 19:47:05.287</td>\n",
       "      <td>W 59 St &amp; 10 Ave</td>\n",
       "      <td>7023.04</td>\n",
       "      <td>E 1 St &amp; 1 Ave</td>\n",
       "      <td>5593.01</td>\n",
       "      <td>40.770513</td>\n",
       "      <td>-73.988038</td>\n",
       "      <td>40.723356</td>\n",
       "      <td>-73.988650</td>\n",
       "      <td>member</td>\n",
       "      <td>29.701450</td>\n",
       "      <td>4</td>\n",
       "      <td>4</td>\n",
       "      <td>1</td>\n",
       "      <td>1</td>\n",
       "    </tr>\n",
       "    <tr>\n",
       "      <th>4</th>\n",
       "      <td>153486234EA3E427</td>\n",
       "      <td>electric_bike</td>\n",
       "      <td>2023-01-10 08:29:04.191</td>\n",
       "      <td>2023-01-10 08:33:49.274</td>\n",
       "      <td>Barrow St &amp; Hudson St</td>\n",
       "      <td>5805.05</td>\n",
       "      <td>Washington St &amp; Gansevoort St</td>\n",
       "      <td>6039.06</td>\n",
       "      <td>40.731724</td>\n",
       "      <td>-74.006744</td>\n",
       "      <td>40.739323</td>\n",
       "      <td>-74.008119</td>\n",
       "      <td>member</td>\n",
       "      <td>4.751383</td>\n",
       "      <td>2</td>\n",
       "      <td>2</td>\n",
       "      <td>1</td>\n",
       "      <td>1</td>\n",
       "    </tr>\n",
       "    <tr>\n",
       "      <th>5</th>\n",
       "      <td>D24D370D9CE13CB4</td>\n",
       "      <td>classic_bike</td>\n",
       "      <td>2023-01-11 08:32:01.889</td>\n",
       "      <td>2023-01-11 08:38:26.498</td>\n",
       "      <td>Barrow St &amp; Hudson St</td>\n",
       "      <td>5805.05</td>\n",
       "      <td>Washington St &amp; Gansevoort St</td>\n",
       "      <td>6039.06</td>\n",
       "      <td>40.731724</td>\n",
       "      <td>-74.006744</td>\n",
       "      <td>40.739323</td>\n",
       "      <td>-74.008119</td>\n",
       "      <td>member</td>\n",
       "      <td>6.410150</td>\n",
       "      <td>2</td>\n",
       "      <td>2</td>\n",
       "      <td>1</td>\n",
       "      <td>1</td>\n",
       "    </tr>\n",
       "    <tr>\n",
       "      <th>6</th>\n",
       "      <td>98E7D95A8B9B2249</td>\n",
       "      <td>classic_bike</td>\n",
       "      <td>2023-01-01 16:40:29.769</td>\n",
       "      <td>2023-01-01 16:48:04.256</td>\n",
       "      <td>Barrow St &amp; Hudson St</td>\n",
       "      <td>5805.05</td>\n",
       "      <td>Washington St &amp; Gansevoort St</td>\n",
       "      <td>6039.06</td>\n",
       "      <td>40.731724</td>\n",
       "      <td>-74.006744</td>\n",
       "      <td>40.739323</td>\n",
       "      <td>-74.008119</td>\n",
       "      <td>member</td>\n",
       "      <td>7.574783</td>\n",
       "      <td>52</td>\n",
       "      <td>52</td>\n",
       "      <td>1</td>\n",
       "      <td>1</td>\n",
       "    </tr>\n",
       "    <tr>\n",
       "      <th>7</th>\n",
       "      <td>9ABD445191B6E224</td>\n",
       "      <td>classic_bike</td>\n",
       "      <td>2023-01-29 14:27:25.595</td>\n",
       "      <td>2023-01-29 14:38:48.023</td>\n",
       "      <td>Barrow St &amp; Hudson St</td>\n",
       "      <td>5805.05</td>\n",
       "      <td>St Marks Pl &amp; 1 Ave</td>\n",
       "      <td>5626.13</td>\n",
       "      <td>40.731724</td>\n",
       "      <td>-74.006744</td>\n",
       "      <td>40.727791</td>\n",
       "      <td>-73.985649</td>\n",
       "      <td>member</td>\n",
       "      <td>11.373800</td>\n",
       "      <td>4</td>\n",
       "      <td>4</td>\n",
       "      <td>1</td>\n",
       "      <td>1</td>\n",
       "    </tr>\n",
       "    <tr>\n",
       "      <th>8</th>\n",
       "      <td>01D7ACD6AE19CC69</td>\n",
       "      <td>classic_bike</td>\n",
       "      <td>2023-01-09 09:01:26.183</td>\n",
       "      <td>2023-01-09 09:11:28.461</td>\n",
       "      <td>6 Ave &amp; W 33 St</td>\n",
       "      <td>6364.07</td>\n",
       "      <td>E 47 St &amp; Park Ave</td>\n",
       "      <td>6584.12</td>\n",
       "      <td>40.749013</td>\n",
       "      <td>-73.988484</td>\n",
       "      <td>40.755103</td>\n",
       "      <td>-73.974987</td>\n",
       "      <td>member</td>\n",
       "      <td>10.037967</td>\n",
       "      <td>2</td>\n",
       "      <td>2</td>\n",
       "      <td>1</td>\n",
       "      <td>1</td>\n",
       "    </tr>\n",
       "    <tr>\n",
       "      <th>9</th>\n",
       "      <td>044C13BF6237E402</td>\n",
       "      <td>classic_bike</td>\n",
       "      <td>2023-01-26 07:22:25.970</td>\n",
       "      <td>2023-01-26 07:30:34.377</td>\n",
       "      <td>6 Ave &amp; W 33 St</td>\n",
       "      <td>6364.07</td>\n",
       "      <td>E 27 St &amp; 1 Ave</td>\n",
       "      <td>6004.06</td>\n",
       "      <td>40.749013</td>\n",
       "      <td>-73.988484</td>\n",
       "      <td>40.739445</td>\n",
       "      <td>-73.976806</td>\n",
       "      <td>member</td>\n",
       "      <td>8.140117</td>\n",
       "      <td>4</td>\n",
       "      <td>4</td>\n",
       "      <td>1</td>\n",
       "      <td>1</td>\n",
       "    </tr>\n",
       "  </tbody>\n",
       "</table>\n",
       "</div>"
      ],
      "text/plain": [
       "            ride_id  rideable_type              started_at  \\\n",
       "0  DC1CB984821DFFF7   classic_bike 2023-01-07 15:36:53.430   \n",
       "1  C00CA02971557F16   classic_bike 2023-01-04 19:23:01.234   \n",
       "2  E4415A543C1972A7   classic_bike 2023-01-24 10:38:01.135   \n",
       "3  4FC76B63F9FE631F   classic_bike 2023-01-26 19:17:23.200   \n",
       "4  153486234EA3E427  electric_bike 2023-01-10 08:29:04.191   \n",
       "5  D24D370D9CE13CB4   classic_bike 2023-01-11 08:32:01.889   \n",
       "6  98E7D95A8B9B2249   classic_bike 2023-01-01 16:40:29.769   \n",
       "7  9ABD445191B6E224   classic_bike 2023-01-29 14:27:25.595   \n",
       "8  01D7ACD6AE19CC69   classic_bike 2023-01-09 09:01:26.183   \n",
       "9  044C13BF6237E402   classic_bike 2023-01-26 07:22:25.970   \n",
       "\n",
       "                 ended_at       start_station_name  start_station_id  \\\n",
       "0 2023-01-07 15:39:45.406     Vesey St & Church St           5216.06   \n",
       "1 2023-01-04 19:34:57.151  Lispenard St & Broadway           5391.06   \n",
       "2 2023-01-24 10:41:40.749           E 5 St & Ave A           5626.06   \n",
       "3 2023-01-26 19:47:05.287         W 59 St & 10 Ave           7023.04   \n",
       "4 2023-01-10 08:33:49.274    Barrow St & Hudson St           5805.05   \n",
       "5 2023-01-11 08:38:26.498    Barrow St & Hudson St           5805.05   \n",
       "6 2023-01-01 16:48:04.256    Barrow St & Hudson St           5805.05   \n",
       "7 2023-01-29 14:38:48.023    Barrow St & Hudson St           5805.05   \n",
       "8 2023-01-09 09:11:28.461          6 Ave & W 33 St           6364.07   \n",
       "9 2023-01-26 07:30:34.377          6 Ave & W 33 St           6364.07   \n",
       "\n",
       "                end_station_name  end_station_id  start_lat  start_lng  \\\n",
       "0       Albany St & Greenwich St         5145.02  40.712220 -74.010472   \n",
       "1            St Marks Pl & 1 Ave         5626.13  40.719392 -74.002472   \n",
       "2                 E 1 St & 1 Ave         5593.01  40.724790 -73.984301   \n",
       "3                 E 1 St & 1 Ave         5593.01  40.770513 -73.988038   \n",
       "4  Washington St & Gansevoort St         6039.06  40.731724 -74.006744   \n",
       "5  Washington St & Gansevoort St         6039.06  40.731724 -74.006744   \n",
       "6  Washington St & Gansevoort St         6039.06  40.731724 -74.006744   \n",
       "7            St Marks Pl & 1 Ave         5626.13  40.731724 -74.006744   \n",
       "8             E 47 St & Park Ave         6584.12  40.749013 -73.988484   \n",
       "9                E 27 St & 1 Ave         6004.06  40.749013 -73.988484   \n",
       "\n",
       "     end_lat    end_lng member_casual  trip_duration  week_started  \\\n",
       "0  40.709267 -74.013247        member       2.866267             1   \n",
       "1  40.727791 -73.985649        member      11.931950             1   \n",
       "2  40.723356 -73.988650        member       3.660233             4   \n",
       "3  40.723356 -73.988650        member      29.701450             4   \n",
       "4  40.739323 -74.008119        member       4.751383             2   \n",
       "5  40.739323 -74.008119        member       6.410150             2   \n",
       "6  40.739323 -74.008119        member       7.574783            52   \n",
       "7  40.727791 -73.985649        member      11.373800             4   \n",
       "8  40.755103 -73.974987        member      10.037967             2   \n",
       "9  40.739445 -73.976806        member       8.140117             4   \n",
       "\n",
       "   week_ended  month_started  month_ended  \n",
       "0           1              1            1  \n",
       "1           1              1            1  \n",
       "2           4              1            1  \n",
       "3           4              1            1  \n",
       "4           2              1            1  \n",
       "5           2              1            1  \n",
       "6          52              1            1  \n",
       "7           4              1            1  \n",
       "8           2              1            1  \n",
       "9           4              1            1  "
      ]
     },
     "execution_count": 18,
     "metadata": {},
     "output_type": "execute_result"
    }
   ],
   "source": [
    "bike_df.head(10)\n",
    "# bike_df.describe()"
   ]
  },
  {
   "cell_type": "code",
   "execution_count": 19,
   "metadata": {
    "id": "sB3vxm3xfp-q"
   },
   "outputs": [],
   "source": [
    "# Extract the Autumn Season Months (September, October, November)\n",
    "autumn_bike_df = bike_df[bike_df['month_started'].isin([9, 10, 11]) & bike_df['month_ended'].isin([9, 10, 11])].copy()"
   ]
  },
  {
   "cell_type": "code",
   "execution_count": 23,
   "metadata": {
    "colab": {
     "base_uri": "https://localhost:8080/"
    },
    "id": "Fq9TLoGCwNe-",
    "outputId": "cff4fecc-d8dc-4b41-b64b-21ac400fd0bd"
   },
   "outputs": [
    {
     "name": "stdout",
     "output_type": "stream",
     "text": [
      "[ 9 10 11]\n",
      "[ 9 10 11]\n"
     ]
    }
   ],
   "source": [
    "# Verify extracted months are 9, 10, 11\n",
    "print(autumn_bike_df['month_started'].unique())\n",
    "print(autumn_bike_df['month_ended'].unique())"
   ]
  },
  {
   "cell_type": "code",
   "execution_count": 24,
   "metadata": {},
   "outputs": [
    {
     "name": "stdout",
     "output_type": "stream",
     "text": [
      "<IntegerArray>\n",
      "[36, 37, 35, 38, 39, 41, 40, 42, 43, 44, 47, 48, 46, 45]\n",
      "Length: 14, dtype: UInt32\n",
      "<IntegerArray>\n",
      "[36, 37, 35, 38, 39, 41, 40, 42, 43, 44, 47, 48, 46, 45]\n",
      "Length: 14, dtype: UInt32\n"
     ]
    }
   ],
   "source": [
    "# See the week numbers\n",
    "print(autumn_bike_df['week_started'].unique())\n",
    "print(autumn_bike_df['week_ended'].unique())"
   ]
  },
  {
   "cell_type": "code",
   "execution_count": 31,
   "metadata": {},
   "outputs": [
    {
     "name": "stdout",
     "output_type": "stream",
     "text": [
      "605 Starting stations\n",
      "605 Ending stations\n"
     ]
    }
   ],
   "source": [
    "# See number of unique stations\n",
    "print(len(autumn_bike_df[\"start_station_id\"].unique()), \"Starting stations\")\n",
    "print(len(autumn_bike_df[\"end_station_id\"].unique()), \"Ending stations\")"
   ]
  },
  {
   "cell_type": "code",
   "execution_count": 25,
   "metadata": {
    "id": "LeJXnLLHwyFB"
   },
   "outputs": [],
   "source": [
    "# Calculate the mean weekly trips for each stations\n",
    "mean_weekly_trips = autumn_bike_df.groupby(['start_station_id', 'week_started']).size().groupby(level=0).mean()\n",
    "mean_weekly_trips = mean_weekly_trips.reset_index(name='MEAN_WEEKLY_TRIPS')\n",
    "mean_weekly_trips['MEAN_WEEKLY_TRIPS'] = mean_weekly_trips['MEAN_WEEKLY_TRIPS'].astype(int)"
   ]
  },
  {
   "cell_type": "code",
   "execution_count": null,
   "metadata": {
    "colab": {
     "base_uri": "https://localhost:8080/",
     "height": 444
    },
    "id": "yURFHAKlxCKk",
    "outputId": "c1743621-a026-427e-855b-42e76932f978"
   },
   "outputs": [
    {
     "data": {
      "text/html": [
       "<div>\n",
       "<style scoped>\n",
       "    .dataframe tbody tr th:only-of-type {\n",
       "        vertical-align: middle;\n",
       "    }\n",
       "\n",
       "    .dataframe tbody tr th {\n",
       "        vertical-align: top;\n",
       "    }\n",
       "\n",
       "    .dataframe thead th {\n",
       "        text-align: right;\n",
       "    }\n",
       "</style>\n",
       "<table border=\"1\" class=\"dataframe\">\n",
       "  <thead>\n",
       "    <tr style=\"text-align: right;\">\n",
       "      <th></th>\n",
       "      <th>start_station_id</th>\n",
       "      <th>MEAN_WEEKLY_TRIPS</th>\n",
       "    </tr>\n",
       "  </thead>\n",
       "  <tbody>\n",
       "    <tr>\n",
       "      <th>0</th>\n",
       "      <td>4846.01</td>\n",
       "      <td>313</td>\n",
       "    </tr>\n",
       "    <tr>\n",
       "      <th>1</th>\n",
       "      <td>4889.06</td>\n",
       "      <td>248</td>\n",
       "    </tr>\n",
       "    <tr>\n",
       "      <th>2</th>\n",
       "      <td>4920.13</td>\n",
       "      <td>27</td>\n",
       "    </tr>\n",
       "    <tr>\n",
       "      <th>3</th>\n",
       "      <td>4953.04</td>\n",
       "      <td>405</td>\n",
       "    </tr>\n",
       "    <tr>\n",
       "      <th>4</th>\n",
       "      <td>4962.01</td>\n",
       "      <td>241</td>\n",
       "    </tr>\n",
       "    <tr>\n",
       "      <th>...</th>\n",
       "      <td>...</td>\n",
       "      <td>...</td>\n",
       "    </tr>\n",
       "    <tr>\n",
       "      <th>600</th>\n",
       "      <td>8679.03</td>\n",
       "      <td>11</td>\n",
       "    </tr>\n",
       "    <tr>\n",
       "      <th>601</th>\n",
       "      <td>8696.05</td>\n",
       "      <td>4</td>\n",
       "    </tr>\n",
       "    <tr>\n",
       "      <th>602</th>\n",
       "      <td>8715.01</td>\n",
       "      <td>17</td>\n",
       "    </tr>\n",
       "    <tr>\n",
       "      <th>603</th>\n",
       "      <td>8715.06</td>\n",
       "      <td>14</td>\n",
       "    </tr>\n",
       "    <tr>\n",
       "      <th>604</th>\n",
       "      <td>8732.04</td>\n",
       "      <td>11</td>\n",
       "    </tr>\n",
       "  </tbody>\n",
       "</table>\n",
       "<p>605 rows × 2 columns</p>\n",
       "</div>"
      ],
      "text/plain": [
       "     start_station_id  MEAN_WEEKLY_TRIPS\n",
       "0             4846.01                313\n",
       "1             4889.06                248\n",
       "2             4920.13                 27\n",
       "3             4953.04                405\n",
       "4             4962.01                241\n",
       "..                ...                ...\n",
       "600           8679.03                 11\n",
       "601           8696.05                  4\n",
       "602           8715.01                 17\n",
       "603           8715.06                 14\n",
       "604           8732.04                 11\n",
       "\n",
       "[605 rows x 2 columns]"
      ]
     },
     "execution_count": 26,
     "metadata": {},
     "output_type": "execute_result"
    }
   ],
   "source": [
    "# Glimpse at the values\n",
    "mean_weekly_trips\n",
    "\n",
    "# Note only 605 stations have recorded trips"
   ]
  },
  {
   "cell_type": "code",
   "execution_count": null,
   "metadata": {
    "id": "nByZKEPd2GPW"
   },
   "outputs": [],
   "source": [
    "# Add mean weekly trips of each station to the stations data set\n",
    "merged_df = pd.merge(stations, mean_weekly_trips, left_on='station_id', right_on='start_station_id', how='left')\n",
    "# Replace empty demand with 0 mean weekly trips\n",
    "merged_df[\"MEAN_WEEKLY_TRIPS\"].fillna(0, inplace=True)"
   ]
  },
  {
   "cell_type": "code",
   "execution_count": 64,
   "metadata": {},
   "outputs": [
    {
     "data": {
      "text/plain": [
       "662"
      ]
     },
     "execution_count": 64,
     "metadata": {},
     "output_type": "execute_result"
    }
   ],
   "source": [
    "# Check total number of unique stations\n",
    "len(stations[\"station_id\"].unique())"
   ]
  },
  {
   "cell_type": "code",
   "execution_count": 65,
   "metadata": {},
   "outputs": [
    {
     "data": {
      "text/html": [
       "<div>\n",
       "<style scoped>\n",
       "    .dataframe tbody tr th:only-of-type {\n",
       "        vertical-align: middle;\n",
       "    }\n",
       "\n",
       "    .dataframe tbody tr th {\n",
       "        vertical-align: top;\n",
       "    }\n",
       "\n",
       "    .dataframe thead th {\n",
       "        text-align: right;\n",
       "    }\n",
       "</style>\n",
       "<table border=\"1\" class=\"dataframe\">\n",
       "  <thead>\n",
       "    <tr style=\"text-align: right;\">\n",
       "      <th></th>\n",
       "      <th>station_id</th>\n",
       "      <th>station_name</th>\n",
       "      <th>capacity</th>\n",
       "      <th>lng</th>\n",
       "      <th>lat</th>\n",
       "      <th>start_station_id</th>\n",
       "      <th>MEAN_WEEKLY_TRIPS</th>\n",
       "    </tr>\n",
       "  </thead>\n",
       "  <tbody>\n",
       "    <tr>\n",
       "      <th>0</th>\n",
       "      <td>5772.05</td>\n",
       "      <td>Morton St &amp; Greenwich St</td>\n",
       "      <td>56</td>\n",
       "      <td>-74.008870</td>\n",
       "      <td>40.731150</td>\n",
       "      <td>NaN</td>\n",
       "      <td>0.0</td>\n",
       "    </tr>\n",
       "    <tr>\n",
       "      <th>1</th>\n",
       "      <td>6560.15</td>\n",
       "      <td>Broadway &amp; W 38 St</td>\n",
       "      <td>68</td>\n",
       "      <td>-73.987349</td>\n",
       "      <td>40.752973</td>\n",
       "      <td>6560.15</td>\n",
       "      <td>511.0</td>\n",
       "    </tr>\n",
       "    <tr>\n",
       "      <th>2</th>\n",
       "      <td>7727.07</td>\n",
       "      <td>Amsterdam Ave &amp; W 119 St</td>\n",
       "      <td>29</td>\n",
       "      <td>-73.959621</td>\n",
       "      <td>40.808625</td>\n",
       "      <td>NaN</td>\n",
       "      <td>0.0</td>\n",
       "    </tr>\n",
       "    <tr>\n",
       "      <th>3</th>\n",
       "      <td>6569.08</td>\n",
       "      <td>W 35 St &amp; Dyer Ave</td>\n",
       "      <td>41</td>\n",
       "      <td>-73.997402</td>\n",
       "      <td>40.754692</td>\n",
       "      <td>6569.08</td>\n",
       "      <td>206.0</td>\n",
       "    </tr>\n",
       "    <tr>\n",
       "      <th>4</th>\n",
       "      <td>7023.04</td>\n",
       "      <td>W 59 St &amp; 10 Ave</td>\n",
       "      <td>117</td>\n",
       "      <td>-73.988038</td>\n",
       "      <td>40.770513</td>\n",
       "      <td>7023.04</td>\n",
       "      <td>341.0</td>\n",
       "    </tr>\n",
       "    <tr>\n",
       "      <th>...</th>\n",
       "      <td>...</td>\n",
       "      <td>...</td>\n",
       "      <td>...</td>\n",
       "      <td>...</td>\n",
       "      <td>...</td>\n",
       "      <td>...</td>\n",
       "      <td>...</td>\n",
       "    </tr>\n",
       "    <tr>\n",
       "      <th>657</th>\n",
       "      <td>8416.10</td>\n",
       "      <td>W 186 St &amp; St Nicholas Ave</td>\n",
       "      <td>26</td>\n",
       "      <td>-73.931308</td>\n",
       "      <td>40.852253</td>\n",
       "      <td>8416.10</td>\n",
       "      <td>8.0</td>\n",
       "    </tr>\n",
       "    <tr>\n",
       "      <th>658</th>\n",
       "      <td>4846.01</td>\n",
       "      <td>South St &amp; Whitehall St</td>\n",
       "      <td>55</td>\n",
       "      <td>-74.012342</td>\n",
       "      <td>40.701221</td>\n",
       "      <td>4846.01</td>\n",
       "      <td>313.0</td>\n",
       "    </tr>\n",
       "    <tr>\n",
       "      <th>659</th>\n",
       "      <td>6890.01</td>\n",
       "      <td>W 53 St &amp; 10 Ave</td>\n",
       "      <td>29</td>\n",
       "      <td>-73.990617</td>\n",
       "      <td>40.766697</td>\n",
       "      <td>6890.01</td>\n",
       "      <td>424.0</td>\n",
       "    </tr>\n",
       "    <tr>\n",
       "      <th>660</th>\n",
       "      <td>6483.06</td>\n",
       "      <td>W 36 St &amp; 7 Ave</td>\n",
       "      <td>38</td>\n",
       "      <td>-73.989539</td>\n",
       "      <td>40.752149</td>\n",
       "      <td>6483.06</td>\n",
       "      <td>173.0</td>\n",
       "    </tr>\n",
       "    <tr>\n",
       "      <th>661</th>\n",
       "      <td>6257.06</td>\n",
       "      <td>W 27 St &amp; 7 Ave</td>\n",
       "      <td>75</td>\n",
       "      <td>-73.993920</td>\n",
       "      <td>40.746650</td>\n",
       "      <td>NaN</td>\n",
       "      <td>0.0</td>\n",
       "    </tr>\n",
       "  </tbody>\n",
       "</table>\n",
       "<p>662 rows × 7 columns</p>\n",
       "</div>"
      ],
      "text/plain": [
       "     station_id                station_name  capacity        lng        lat  \\\n",
       "0       5772.05    Morton St & Greenwich St        56 -74.008870  40.731150   \n",
       "1       6560.15          Broadway & W 38 St        68 -73.987349  40.752973   \n",
       "2       7727.07    Amsterdam Ave & W 119 St        29 -73.959621  40.808625   \n",
       "3       6569.08          W 35 St & Dyer Ave        41 -73.997402  40.754692   \n",
       "4       7023.04            W 59 St & 10 Ave       117 -73.988038  40.770513   \n",
       "..          ...                         ...       ...        ...        ...   \n",
       "657     8416.10  W 186 St & St Nicholas Ave        26 -73.931308  40.852253   \n",
       "658     4846.01     South St & Whitehall St        55 -74.012342  40.701221   \n",
       "659     6890.01            W 53 St & 10 Ave        29 -73.990617  40.766697   \n",
       "660     6483.06             W 36 St & 7 Ave        38 -73.989539  40.752149   \n",
       "661     6257.06             W 27 St & 7 Ave        75 -73.993920  40.746650   \n",
       "\n",
       "     start_station_id  MEAN_WEEKLY_TRIPS  \n",
       "0                 NaN                0.0  \n",
       "1             6560.15              511.0  \n",
       "2                 NaN                0.0  \n",
       "3             6569.08              206.0  \n",
       "4             7023.04              341.0  \n",
       "..                ...                ...  \n",
       "657           8416.10                8.0  \n",
       "658           4846.01              313.0  \n",
       "659           6890.01              424.0  \n",
       "660           6483.06              173.0  \n",
       "661               NaN                0.0  \n",
       "\n",
       "[662 rows x 7 columns]"
      ]
     },
     "execution_count": 65,
     "metadata": {},
     "output_type": "execute_result"
    }
   ],
   "source": [
    "merged_df"
   ]
  },
  {
   "cell_type": "code",
   "execution_count": 70,
   "metadata": {
    "colab": {
     "base_uri": "https://localhost:8080/"
    },
    "id": "iJTdsYao2bNm",
    "outputId": "51946b98-c992-420b-e966-f5794832474d"
   },
   "outputs": [
    {
     "name": "stdout",
     "output_type": "stream",
     "text": [
      "column names: \n",
      "Index(['station_id', 'station_name', 'capacity', 'lng', 'lat',\n",
      "       'MEAN_WEEKLY_TRIPS'],\n",
      "      dtype='object')\n",
      "\n",
      "Checking for null values \n",
      "station_id           0\n",
      "MEAN_WEEKLY_TRIPS    0\n",
      "capacity             0\n",
      "dtype: int64\n"
     ]
    }
   ],
   "source": [
    "# Select wanted columns\n",
    "final_df = merged_df[['station_id','station_name','capacity','lng','lat','MEAN_WEEKLY_TRIPS']].copy()\n",
    "print(f\"column names: \\n{final_df.columns}\")\n",
    "print(\"\")\n",
    "print(f\"Checking for null values \\n{final_df[['station_id', 'MEAN_WEEKLY_TRIPS', 'capacity']].isnull().sum()}\")"
   ]
  },
  {
   "cell_type": "code",
   "execution_count": 71,
   "metadata": {
    "colab": {
     "base_uri": "https://localhost:8080/",
     "height": 355
    },
    "id": "qqJnQPQB2hnJ",
    "outputId": "9249b35d-6288-4864-c75d-53c4d4fb8f32"
   },
   "outputs": [
    {
     "data": {
      "text/plain": [
       "count    662.000000\n",
       "mean     166.890942\n",
       "std      138.587444\n",
       "min        0.000000\n",
       "25%       40.504833\n",
       "50%      150.014667\n",
       "75%      257.689250\n",
       "max      780.824333\n",
       "Name: DEMAND_SCORE, dtype: float64"
      ]
     },
     "execution_count": 71,
     "metadata": {},
     "output_type": "execute_result"
    }
   ],
   "source": [
    "# Step 1: Min-max normalize the 'capacity' column\n",
    "min_capacity = final_df['capacity'].min()\n",
    "max_capacity = final_df['capacity'].max()\n",
    "\n",
    "final_df['NORMALISED_CAPACITY'] = (final_df['capacity'] - min_capacity) / (max_capacity - min_capacity)\n",
    "\n",
    "# Step 2: Calculate the demand score (N) for each station\n",
    "small_constant = 0.001\n",
    "\n",
    "# Demand score = mean * (1 - relative_capacity + e)\n",
    "final_df['DEMAND_SCORE'] = final_df['MEAN_WEEKLY_TRIPS'] * (1 - final_df['NORMALISED_CAPACITY'] + small_constant)\n",
    "final_df['DEMAND_SCORE'].describe()"
   ]
  },
  {
   "cell_type": "code",
   "execution_count": 72,
   "metadata": {
    "colab": {
     "base_uri": "https://localhost:8080/",
     "height": 492
    },
    "id": "gc5Wwi3a68ln",
    "outputId": "46ac7185-7769-4628-c801-b4e971aa8d9e"
   },
   "outputs": [
    {
     "data": {
      "image/png": "[encoded data removed]",
      "text/plain": [
       "<Figure size 640x480 with 1 Axes>"
      ]
     },
     "metadata": {},
     "output_type": "display_data"
    }
   ],
   "source": [
    "import statsmodels.api as sm\n",
    "\n",
    "# Create the Q-Q plot\n",
    "fig = sm.qqplot(final_df['DEMAND_SCORE'], line='s') # 's' for standardized line\n",
    "plt.title('Q-Q Plot of Demand Score')\n",
    "plt.show()\n",
    "\n",
    "# HOW TO READ:\n",
    "# If the data points fall along the red line, you can say that the distribution of the demand score is follows a normal distribution.\n",
    "# If that is the case, a quantile categorisation will be suitable\n",
    "# In our case, there are some mismatch, so I chose K-Means"
   ]
  },
  {
   "cell_type": "code",
   "execution_count": 73,
   "metadata": {
    "colab": {
     "base_uri": "https://localhost:8080/",
     "height": 492
    },
    "id": "JlDEMhQj5AfK",
    "outputId": "b98e8448-a6d7-4546-e4d1-ad59991d91c7"
   },
   "outputs": [
    {
     "data": {
      "image/png": "[encoded data removed]",
      "text/plain": [
       "<Figure size 640x480 with 1 Axes>"
      ]
     },
     "metadata": {},
     "output_type": "display_data"
    }
   ],
   "source": [
    "import seaborn as sns\n",
    "\n",
    "sns.kdeplot(final_df['DEMAND_SCORE'])\n",
    "plt.xlabel('Demand Score')\n",
    "plt.ylabel('Density')\n",
    "plt.title('KDE Plot of Demand Score')\n",
    "plt.show()\n",
    "\n",
    "# HOW TO READ:\n",
    "# Just a smooth curve to see the distribution"
   ]
  },
  {
   "cell_type": "code",
   "execution_count": null,
   "metadata": {
    "id": "-Eat2P4j7R8R"
   },
   "outputs": [],
   "source": [
    "from sklearn.cluster import KMeans\n",
    "\n",
    "# Do a K-Means clustering\n",
    "num_clusters = 4\n",
    "kmeans = KMeans(n_clusters= num_clusters, random_state=42, n_init=10)\n",
    "final_df['DEMAND_CATEGORY'] = kmeans.fit_predict(final_df[['DEMAND_SCORE']])"
   ]
  },
  {
   "cell_type": "code",
   "execution_count": 76,
   "metadata": {
    "colab": {
     "base_uri": "https://localhost:8080/",
     "height": 261
    },
    "id": "PhR3sqqk7WRp",
    "outputId": "ba275063-dd8c-4a4b-a3a6-1c45783aab8f"
   },
   "outputs": [
    {
     "data": {
      "text/plain": [
       "0    252\n",
       "2    221\n",
       "1    158\n",
       "3     31\n",
       "Name: DEMAND_CATEGORY, dtype: int64"
      ]
     },
     "execution_count": 76,
     "metadata": {},
     "output_type": "execute_result"
    }
   ],
   "source": [
    "final_df['DEMAND_CATEGORY'].value_counts()"
   ]
  },
  {
   "cell_type": "code",
   "execution_count": 77,
   "metadata": {
    "colab": {
     "base_uri": "https://localhost:8080/",
     "height": 584
    },
    "id": "0KxVTRgm72Wd",
    "outputId": "991011d4-3c9f-4f15-903d-0fd62ef1baf6"
   },
   "outputs": [
    {
     "data": {
      "image/png": "[encoded data removed]",
      "text/plain": [
       "<Figure size 1000x600 with 1 Axes>"
      ]
     },
     "metadata": {},
     "output_type": "display_data"
    }
   ],
   "source": [
    "plt.figure(figsize=(10, 6))\n",
    "for cluster in range(num_clusters):\n",
    "    plt.hist(final_df.loc[final_df['DEMAND_CATEGORY'] == cluster, 'DEMAND_SCORE'],\n",
    "              bins=20, alpha=0.5, label=f'{cluster}')\n",
    "plt.xlabel('Demand Score')\n",
    "plt.ylabel('Frequency')\n",
    "plt.title(f'KMeans Binning with {num_clusters} Clusters')\n",
    "plt.legend()\n",
    "plt.show()"
   ]
  },
  {
   "cell_type": "code",
   "execution_count": 78,
   "metadata": {},
   "outputs": [],
   "source": [
    "# Create a dictionary to map cluster labels to category names\n",
    "# assign according to the cluster numbers on the chart\n",
    "cluster_mapping = {\n",
    "    0: 'Lowest', \n",
    "    2: 'Low',\n",
    "    1: 'Medium',\n",
    "    3: 'Highest'\n",
    "}\n",
    "\n",
    "# Rename the categories in your DataFrame\n",
    "final_df['DEMAND_CATEGORY'] = final_df['DEMAND_CATEGORY'].map(cluster_mapping)"
   ]
  },
  {
   "cell_type": "code",
   "execution_count": 80,
   "metadata": {
    "colab": {
     "base_uri": "https://localhost:8080/",
     "height": 492
    },
    "id": "g_b5jYIP9bo-",
    "outputId": "8adf1f0a-ac63-47cc-8b38-5e33a9e91458"
   },
   "outputs": [
    {
     "name": "stderr",
     "output_type": "stream",
     "text": [
      "c:\\Users\\Kuan Xin\\anaconda3\\envs\\smu_analytics\\lib\\site-packages\\sklearn\\cluster\\_kmeans.py:1382: UserWarning: KMeans is known to have a memory leak on Windows with MKL, when there are less chunks than available threads. You can avoid it by setting the environment variable OMP_NUM_THREADS=3.\n",
      "  warnings.warn(\n",
      "c:\\Users\\Kuan Xin\\anaconda3\\envs\\smu_analytics\\lib\\site-packages\\sklearn\\cluster\\_kmeans.py:1382: UserWarning: KMeans is known to have a memory leak on Windows with MKL, when there are less chunks than available threads. You can avoid it by setting the environment variable OMP_NUM_THREADS=3.\n",
      "  warnings.warn(\n",
      "c:\\Users\\Kuan Xin\\anaconda3\\envs\\smu_analytics\\lib\\site-packages\\sklearn\\cluster\\_kmeans.py:1382: UserWarning: KMeans is known to have a memory leak on Windows with MKL, when there are less chunks than available threads. You can avoid it by setting the environment variable OMP_NUM_THREADS=3.\n",
      "  warnings.warn(\n",
      "c:\\Users\\Kuan Xin\\anaconda3\\envs\\smu_analytics\\lib\\site-packages\\sklearn\\cluster\\_kmeans.py:1382: UserWarning: KMeans is known to have a memory leak on Windows with MKL, when there are less chunks than available threads. You can avoid it by setting the environment variable OMP_NUM_THREADS=3.\n",
      "  warnings.warn(\n",
      "c:\\Users\\Kuan Xin\\anaconda3\\envs\\smu_analytics\\lib\\site-packages\\sklearn\\cluster\\_kmeans.py:1382: UserWarning: KMeans is known to have a memory leak on Windows with MKL, when there are less chunks than available threads. You can avoid it by setting the environment variable OMP_NUM_THREADS=3.\n",
      "  warnings.warn(\n",
      "c:\\Users\\Kuan Xin\\anaconda3\\envs\\smu_analytics\\lib\\site-packages\\sklearn\\cluster\\_kmeans.py:1382: UserWarning: KMeans is known to have a memory leak on Windows with MKL, when there are less chunks than available threads. You can avoid it by setting the environment variable OMP_NUM_THREADS=3.\n",
      "  warnings.warn(\n",
      "c:\\Users\\Kuan Xin\\anaconda3\\envs\\smu_analytics\\lib\\site-packages\\sklearn\\cluster\\_kmeans.py:1382: UserWarning: KMeans is known to have a memory leak on Windows with MKL, when there are less chunks than available threads. You can avoid it by setting the environment variable OMP_NUM_THREADS=3.\n",
      "  warnings.warn(\n",
      "c:\\Users\\Kuan Xin\\anaconda3\\envs\\smu_analytics\\lib\\site-packages\\sklearn\\cluster\\_kmeans.py:1382: UserWarning: KMeans is known to have a memory leak on Windows with MKL, when there are less chunks than available threads. You can avoid it by setting the environment variable OMP_NUM_THREADS=3.\n",
      "  warnings.warn(\n",
      "c:\\Users\\Kuan Xin\\anaconda3\\envs\\smu_analytics\\lib\\site-packages\\sklearn\\cluster\\_kmeans.py:1382: UserWarning: KMeans is known to have a memory leak on Windows with MKL, when there are less chunks than available threads. You can avoid it by setting the environment variable OMP_NUM_THREADS=3.\n",
      "  warnings.warn(\n",
      "c:\\Users\\Kuan Xin\\anaconda3\\envs\\smu_analytics\\lib\\site-packages\\sklearn\\cluster\\_kmeans.py:1382: UserWarning: KMeans is known to have a memory leak on Windows with MKL, when there are less chunks than available threads. You can avoid it by setting the environment variable OMP_NUM_THREADS=3.\n",
      "  warnings.warn(\n"
     ]
    },
    {
     "data": {
      "image/png": "[encoded data removed]",
      "text/plain": [
       "<Figure size 640x480 with 1 Axes>"
      ]
     },
     "metadata": {},
     "output_type": "display_data"
    }
   ],
   "source": [
    "# Confirmation of K Values\n",
    "# Use the Elbow Method to see if number of clusters is suitable\n",
    "# Results show K = 3 or K = 4 as suitable.\n",
    "\n",
    "\n",
    "def find_optimal_k(df, max_k=10):\n",
    "    \"\"\"Finds the optimal k using the elbow method.\"\"\"\n",
    "    inertia = []\n",
    "    \n",
    "    for k in range(1, max_k + 1):\n",
    "        kmeans = KMeans(n_clusters=k, random_state=42, n_init=10)\n",
    "        kmeans.fit(df[['DEMAND_SCORE']])\n",
    "        inertia.append(kmeans.inertia_)\n",
    "\n",
    "    # Plot the elbow curve\n",
    "    plt.plot(range(1, max_k + 1), inertia, marker='o')\n",
    "    plt.xlabel('Number of Clusters (k)')\n",
    "    plt.ylabel('Inertia')\n",
    "    plt.title('Elbow Method for Optimal k')\n",
    "    plt.show()\n",
    "\n",
    "# Run the function to find the optimal k\n",
    "find_optimal_k(final_df)\n",
    "\n",
    "# HOW TO READ\n",
    "# Look for drop in inertia as K value increases\n",
    "# We want a reasonably high K value.\n",
    "# Around K = 3 or 4, there is a significant drop in inertia."
   ]
  },
  {
   "cell_type": "code",
   "execution_count": 81,
   "metadata": {
    "colab": {
     "base_uri": "https://localhost:8080/",
     "height": 584
    },
    "id": "lWZvls1F_Zjs",
    "outputId": "cde99a28-4455-47f2-f823-aeba3bf6ce8d"
   },
   "outputs": [
    {
     "data": {
      "image/png": "[encoded data removed]",
      "text/plain": [
       "<Figure size 1000x600 with 1 Axes>"
      ]
     },
     "metadata": {},
     "output_type": "display_data"
    }
   ],
   "source": [
    "plt.figure(figsize=(10, 6))\n",
    "for cluster in ['Lowest','Low','Medium','Highest']:\n",
    "    plt.hist(final_df.loc[final_df['DEMAND_CATEGORY'] == cluster, 'DEMAND_SCORE'],\n",
    "              bins=20, alpha=0.5, label=f'{cluster}')\n",
    "plt.xlabel('Demand Score')\n",
    "plt.ylabel('Frequency')\n",
    "plt.title(f'KMeans Binning with {num_clusters} Clusters')\n",
    "plt.legend()\n",
    "plt.show()"
   ]
  },
  {
   "cell_type": "code",
   "execution_count": 82,
   "metadata": {},
   "outputs": [
    {
     "data": {
      "text/html": [
       "<div>\n",
       "<style scoped>\n",
       "    .dataframe tbody tr th:only-of-type {\n",
       "        vertical-align: middle;\n",
       "    }\n",
       "\n",
       "    .dataframe tbody tr th {\n",
       "        vertical-align: top;\n",
       "    }\n",
       "\n",
       "    .dataframe thead th {\n",
       "        text-align: right;\n",
       "    }\n",
       "</style>\n",
       "<table border=\"1\" class=\"dataframe\">\n",
       "  <thead>\n",
       "    <tr style=\"text-align: right;\">\n",
       "      <th></th>\n",
       "      <th>station_id</th>\n",
       "      <th>station_name</th>\n",
       "      <th>capacity</th>\n",
       "      <th>lng</th>\n",
       "      <th>lat</th>\n",
       "      <th>MEAN_WEEKLY_TRIPS</th>\n",
       "      <th>NORMALISED_CAPACITY</th>\n",
       "      <th>DEMAND_SCORE</th>\n",
       "      <th>DEMAND_CATEGORY</th>\n",
       "    </tr>\n",
       "  </thead>\n",
       "  <tbody>\n",
       "    <tr>\n",
       "      <th>0</th>\n",
       "      <td>5772.05</td>\n",
       "      <td>Morton St &amp; Greenwich St</td>\n",
       "      <td>56</td>\n",
       "      <td>-74.008870</td>\n",
       "      <td>40.731150</td>\n",
       "      <td>0.0</td>\n",
       "      <td>0.441667</td>\n",
       "      <td>0.000000</td>\n",
       "      <td>Lowest</td>\n",
       "    </tr>\n",
       "    <tr>\n",
       "      <th>1</th>\n",
       "      <td>6560.15</td>\n",
       "      <td>Broadway &amp; W 38 St</td>\n",
       "      <td>68</td>\n",
       "      <td>-73.987349</td>\n",
       "      <td>40.752973</td>\n",
       "      <td>511.0</td>\n",
       "      <td>0.541667</td>\n",
       "      <td>234.719333</td>\n",
       "      <td>Low</td>\n",
       "    </tr>\n",
       "    <tr>\n",
       "      <th>2</th>\n",
       "      <td>7727.07</td>\n",
       "      <td>Amsterdam Ave &amp; W 119 St</td>\n",
       "      <td>29</td>\n",
       "      <td>-73.959621</td>\n",
       "      <td>40.808625</td>\n",
       "      <td>0.0</td>\n",
       "      <td>0.216667</td>\n",
       "      <td>0.000000</td>\n",
       "      <td>Lowest</td>\n",
       "    </tr>\n",
       "    <tr>\n",
       "      <th>3</th>\n",
       "      <td>6569.08</td>\n",
       "      <td>W 35 St &amp; Dyer Ave</td>\n",
       "      <td>41</td>\n",
       "      <td>-73.997402</td>\n",
       "      <td>40.754692</td>\n",
       "      <td>206.0</td>\n",
       "      <td>0.316667</td>\n",
       "      <td>140.972667</td>\n",
       "      <td>Low</td>\n",
       "    </tr>\n",
       "    <tr>\n",
       "      <th>4</th>\n",
       "      <td>7023.04</td>\n",
       "      <td>W 59 St &amp; 10 Ave</td>\n",
       "      <td>117</td>\n",
       "      <td>-73.988038</td>\n",
       "      <td>40.770513</td>\n",
       "      <td>341.0</td>\n",
       "      <td>0.950000</td>\n",
       "      <td>17.391000</td>\n",
       "      <td>Lowest</td>\n",
       "    </tr>\n",
       "    <tr>\n",
       "      <th>...</th>\n",
       "      <td>...</td>\n",
       "      <td>...</td>\n",
       "      <td>...</td>\n",
       "      <td>...</td>\n",
       "      <td>...</td>\n",
       "      <td>...</td>\n",
       "      <td>...</td>\n",
       "      <td>...</td>\n",
       "      <td>...</td>\n",
       "    </tr>\n",
       "    <tr>\n",
       "      <th>657</th>\n",
       "      <td>8416.10</td>\n",
       "      <td>W 186 St &amp; St Nicholas Ave</td>\n",
       "      <td>26</td>\n",
       "      <td>-73.931308</td>\n",
       "      <td>40.852253</td>\n",
       "      <td>8.0</td>\n",
       "      <td>0.191667</td>\n",
       "      <td>6.474667</td>\n",
       "      <td>Lowest</td>\n",
       "    </tr>\n",
       "    <tr>\n",
       "      <th>658</th>\n",
       "      <td>4846.01</td>\n",
       "      <td>South St &amp; Whitehall St</td>\n",
       "      <td>55</td>\n",
       "      <td>-74.012342</td>\n",
       "      <td>40.701221</td>\n",
       "      <td>313.0</td>\n",
       "      <td>0.433333</td>\n",
       "      <td>177.679667</td>\n",
       "      <td>Low</td>\n",
       "    </tr>\n",
       "    <tr>\n",
       "      <th>659</th>\n",
       "      <td>6890.01</td>\n",
       "      <td>W 53 St &amp; 10 Ave</td>\n",
       "      <td>29</td>\n",
       "      <td>-73.990617</td>\n",
       "      <td>40.766697</td>\n",
       "      <td>424.0</td>\n",
       "      <td>0.216667</td>\n",
       "      <td>332.557333</td>\n",
       "      <td>Medium</td>\n",
       "    </tr>\n",
       "    <tr>\n",
       "      <th>660</th>\n",
       "      <td>6483.06</td>\n",
       "      <td>W 36 St &amp; 7 Ave</td>\n",
       "      <td>38</td>\n",
       "      <td>-73.989539</td>\n",
       "      <td>40.752149</td>\n",
       "      <td>173.0</td>\n",
       "      <td>0.291667</td>\n",
       "      <td>122.714667</td>\n",
       "      <td>Low</td>\n",
       "    </tr>\n",
       "    <tr>\n",
       "      <th>661</th>\n",
       "      <td>6257.06</td>\n",
       "      <td>W 27 St &amp; 7 Ave</td>\n",
       "      <td>75</td>\n",
       "      <td>-73.993920</td>\n",
       "      <td>40.746650</td>\n",
       "      <td>0.0</td>\n",
       "      <td>0.600000</td>\n",
       "      <td>0.000000</td>\n",
       "      <td>Lowest</td>\n",
       "    </tr>\n",
       "  </tbody>\n",
       "</table>\n",
       "<p>662 rows × 9 columns</p>\n",
       "</div>"
      ],
      "text/plain": [
       "     station_id                station_name  capacity        lng        lat  \\\n",
       "0       5772.05    Morton St & Greenwich St        56 -74.008870  40.731150   \n",
       "1       6560.15          Broadway & W 38 St        68 -73.987349  40.752973   \n",
       "2       7727.07    Amsterdam Ave & W 119 St        29 -73.959621  40.808625   \n",
       "3       6569.08          W 35 St & Dyer Ave        41 -73.997402  40.754692   \n",
       "4       7023.04            W 59 St & 10 Ave       117 -73.988038  40.770513   \n",
       "..          ...                         ...       ...        ...        ...   \n",
       "657     8416.10  W 186 St & St Nicholas Ave        26 -73.931308  40.852253   \n",
       "658     4846.01     South St & Whitehall St        55 -74.012342  40.701221   \n",
       "659     6890.01            W 53 St & 10 Ave        29 -73.990617  40.766697   \n",
       "660     6483.06             W 36 St & 7 Ave        38 -73.989539  40.752149   \n",
       "661     6257.06             W 27 St & 7 Ave        75 -73.993920  40.746650   \n",
       "\n",
       "     MEAN_WEEKLY_TRIPS  NORMALISED_CAPACITY  DEMAND_SCORE DEMAND_CATEGORY  \n",
       "0                  0.0             0.441667      0.000000          Lowest  \n",
       "1                511.0             0.541667    234.719333             Low  \n",
       "2                  0.0             0.216667      0.000000          Lowest  \n",
       "3                206.0             0.316667    140.972667             Low  \n",
       "4                341.0             0.950000     17.391000          Lowest  \n",
       "..                 ...                  ...           ...             ...  \n",
       "657                8.0             0.191667      6.474667          Lowest  \n",
       "658              313.0             0.433333    177.679667             Low  \n",
       "659              424.0             0.216667    332.557333          Medium  \n",
       "660              173.0             0.291667    122.714667             Low  \n",
       "661                0.0             0.600000      0.000000          Lowest  \n",
       "\n",
       "[662 rows x 9 columns]"
      ]
     },
     "execution_count": 82,
     "metadata": {},
     "output_type": "execute_result"
    }
   ],
   "source": [
    "final_df"
   ]
  },
  {
   "cell_type": "code",
   "execution_count": 83,
   "metadata": {
    "id": "2-yMvyVY_4Z7"
   },
   "outputs": [],
   "source": [
    "# Make sure mean weekly trips is an integer\n",
    "final_df['MEAN_WEEKLY_TRIPS'] = final_df['MEAN_WEEKLY_TRIPS'].astype(int)\n",
    "\n",
    "# Write to file\n",
    "final_df.to_csv('station_with_demand.csv', index=False)"
   ]
  }
 ],
 "metadata": {
  "colab": {
   "provenance": []
  },
  "kernelspec": {
   "display_name": "smu_analytics",
   "language": "python",
   "name": "smu_analytics"
  },
  "language_info": {
   "codemirror_mode": {
    "name": "ipython",
    "version": 3
   },
   "file_extension": ".py",
   "mimetype": "text/x-python",
   "name": "python",
   "nbconvert_exporter": "python",
   "pygments_lexer": "ipython3",
   "version": "3.10.4"
  }
 },
 "nbformat": 4,
 "nbformat_minor": 0
}
